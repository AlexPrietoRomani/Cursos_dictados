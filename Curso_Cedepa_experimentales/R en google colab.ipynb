{
  "cells": [
    {
      "cell_type": "code",
      "execution_count": null,
      "metadata": {
        "id": "e7i5yaEEGFxp"
      },
      "outputs": [],
      "source": [
        "%load_ext rpy2.ipython"
      ]
    },
    {
      "cell_type": "code",
      "execution_count": null,
      "metadata": {
        "colab": {
          "base_uri": "https://localhost:8080/"
        },
        "collapsed": true,
        "id": "suu9QXpDFcDv",
        "outputId": "66c22b52-3acb-44ac-cd1f-9c73d6e3299b"
      },
      "outputs": [],
      "source": [
        "%%R\n",
        "# ------------------------------------------------------------\n",
        "# Instalación y carga de librerías necesarias\n",
        "# ------------------------------------------------------------\n",
        "\n",
        "# Lista de paquetes requeridos\n",
        "required_packages <- c(\"ggplot2\", \"dplyr\", \"agricolae\", \"readr\", \"rstatix\")\n",
        "\n",
        "# Función para instalar paquetes que no estén ya instalados\n",
        "install_if_missing <- function(packages) {\n",
        "  new_packages <- packages[!(packages %in% installed.packages()[,\"Package\"])]\n",
        "  if(length(new_packages)) install.packages(new_packages)\n",
        "}\n",
        "\n",
        "# Instalar paquetes faltantes\n",
        "install_if_missing(required_packages)\n",
        "\n",
        "# Cargar las librerías\n",
        "library(ggplot2)\n",
        "library(dplyr)\n",
        "library(agricolae)\n",
        "library(readr)\n",
        "library(rstatix)"
      ]
    },
    {
      "cell_type": "code",
      "execution_count": null,
      "metadata": {
        "colab": {
          "base_uri": "https://localhost:8080/"
        },
        "id": "JmVQv1yhGZZb",
        "outputId": "940e6575-37e0-4201-d993-418f4ae2bc07"
      },
      "outputs": [],
      "source": [
        "%%R\n",
        "# Asignación de valores a variables\n",
        "# Utilizamos el operador <- para asignar valores\n",
        "rendimiento <- 150  # Rendimiento de cultivo en quintales por hectárea\n",
        "altura_planta <- 75  # Altura promedio de las plantas en cm\n",
        "\n",
        "# Imprimir valores en la consola\n",
        "print(rendimiento)\n",
        "print(altura_planta)\n",
        "\n",
        "# Uso de funciones básicas\n",
        "# Calcular la raíz cuadrada del rendimiento\n",
        "sqrt_rendimiento <- sqrt(rendimiento)\n",
        "print(sqrt_rendimiento)\n",
        "\n",
        "# Creación de vectores\n",
        "# Vector de rendimientos de diferentes parcelas\n",
        "rendimientos <- c(145, 152, 158, 149, 160)\n",
        "\n",
        "# Vector de alturas de plantas correspondientes\n",
        "alturas <- c(73, 76, 78, 75, 80)\n",
        "\n",
        "# Imprimir vectores\n",
        "print(rendimientos)\n",
        "print(alturas)\n",
        "\n",
        "# Operaciones con vectores\n",
        "# Calcular el rendimiento total\n",
        "rendimiento_total <- sum(rendimientos)\n",
        "print(rendimiento_total)\n",
        "\n",
        "# Calcular el rendimiento promedio\n",
        "rendimiento_promedio <- mean(rendimientos)\n",
        "print(rendimiento_promedio)\n"
      ]
    },
    {
      "cell_type": "code",
      "execution_count": null,
      "metadata": {
        "colab": {
          "base_uri": "https://localhost:8080/"
        },
        "id": "kmLwELqLGjEa",
        "outputId": "2a8c6762-81c4-4914-dad0-efd0b4398cb4"
      },
      "outputs": [],
      "source": [
        "%%R\n",
        "# Tenemos un archivo CSV llamado \"PTPVS112016_CANAYPATA_exp1.xslx\" con columnas \"Parcela\", \"Rendimiento\", \"Altura\"\n",
        "\n",
        "# Especificar el nombre del archivo Excel\n",
        "nombre_archivo <- \"potato DCA/PTPVS112016_CANAYPATA_exp1.xlsx\"\n",
        "\n",
        "# Construir la ruta completa al archivo (si es necesario)\n",
        "ruta_completa <- file.path(getwd(), nombre_archivo)\n",
        "\n",
        "# Leer el archivo Excel\n",
        "data <- read_excel(ruta_completa, sheet = \"F4_harvest_mother\")\n",
        "\n",
        "# Importar datos desde un archivo CSV\n",
        "data_papa <- read.csv(\"potato/PTPVS112016_CANAYPATA_exp1.csv\", header = TRUE, sep = \";\")\n",
        "\n",
        "# Ver las primeras filas del conjunto de datos importado\n",
        "head(data_papa)\n",
        "\n",
        "# Ver los tipos de variables del conjunto de datos\n",
        "str(data_papa)\n",
        "\n",
        "# Mostrar un resumen estadístico de los datos importados\n",
        "summary(data_papa)\n",
        "\n",
        "# Instalar y cargar paquetes\n",
        "install.packages(\"tidyverse\") # paquete 'tidyverse' para manipulación de datos\n",
        "library(tidyverse)\n",
        "\n",
        "# Usar dplyr para seleccionar columnas específicas\n",
        "datos_seleccionados <- data_papa %>%\n",
        "    select(NTP, NPH, NMTPL, MTWPL, ATW)\n",
        "\n",
        "# Mostrar los datos seleccionados\n",
        "print(datos_seleccionados)\n"
      ]
    },
    {
      "cell_type": "code",
      "execution_count": null,
      "metadata": {
        "colab": {
          "base_uri": "https://localhost:8080/"
        },
        "id": "AyjQyQ7yGxUe",
        "outputId": "0843d24f-2f0e-430a-edd1-c59a0eb08085"
      },
      "outputs": [],
      "source": [
        "%%R\n",
        "## Ejemplo de DCA\n",
        "set.seed(456)\n",
        "dca <- design.crd(trt = c(\"Fertilizante_A\", \"Fertilizante_B\", \"Fertilizante_C\", \"Fertilizante_D\"),\n",
        "                    r = 3,  # Número de repeticiones por tratamiento\n",
        "                    serie = 2, \n",
        "                    seed = 456)  # Semilla para garantizar reproducibilidad\n",
        "\n",
        "# Imprimir el libro de campo (fieldbook)\n",
        "print(\"Diseño Completamente al Azar (DCA):\")\n",
        "print(dca$book)\n"
      ]
    }
  ],
  "metadata": {
    "colab": {
      "provenance": []
    },
    "kernelspec": {
      "display_name": "Python 3",
      "name": "python3"
    },
    "language_info": {
      "name": "python"
    }
  },
  "nbformat": 4,
  "nbformat_minor": 0
}
